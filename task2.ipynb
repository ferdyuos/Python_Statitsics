{
 "cells": [
  {
   "cell_type": "markdown",
   "metadata": {
    "deletable": false
   },
   "source": [
    "# UFCFVQ-15-M Programming for Data Science (Autumn 2021)\n",
    "# Programming Task 2\n",
    "\n",
    "## Student Id: 21050307"
   ]
  },
  {
   "cell_type": "markdown",
   "metadata": {
    "deletable": false
   },
   "source": [
    "### Requirement FR9 - Read CSV data from two files and merge it into a single Data Frame "
   ]
  },
  {
   "cell_type": "code",
   "execution_count": 57,
   "metadata": {},
   "outputs": [
    {
     "name": "stdout",
     "output_type": "stream",
     "text": [
      "    region  median_household_income  share_unemployed_seasonal  \\\n",
      "0        1                    42278                      0.060   \n",
      "1        2                    67629                      0.064   \n",
      "2        3                    49254                      0.063   \n",
      "3        4                    44922                      0.052   \n",
      "4        5                    60487                      0.059   \n",
      "5        6                    60940                      0.040   \n",
      "6        7                    70161                      0.052   \n",
      "7        8                    57522                      0.049   \n",
      "8        9                    68277                      0.067   \n",
      "9       10                    46140                      0.052   \n",
      "10      11                    49555                      0.058   \n",
      "11      12                    71223                      0.034   \n",
      "12      13                    53438                      0.042   \n",
      "13      14                    54916                      0.054   \n",
      "14      15                    48060                      0.044   \n",
      "15      16                    57810                      0.036   \n",
      "16      17                    53444                      0.044   \n",
      "17      18                    42786                      0.050   \n",
      "18      19                    42406                      0.060   \n",
      "19      20                    51710                      0.044   \n",
      "20      21                    76165                      0.051   \n",
      "21      22                    63151                      0.046   \n",
      "22      23                    52005                      0.050   \n",
      "23      24                    67244                      0.038   \n",
      "24      25                    35521                      0.061   \n",
      "25      26                    56630                      0.053   \n",
      "26      27                    51102                      0.041   \n",
      "27      28                    56870                      0.029   \n",
      "28      29                    49875                      0.067   \n",
      "29      30                    73397                      0.034   \n",
      "30      31                    65243                      0.056   \n",
      "31      32                    46686                      0.068   \n",
      "32      33                    54310                      0.051   \n",
      "33      34                    46784                      0.058   \n",
      "34      35                    60730                      0.028   \n",
      "35      36                    49644                      0.045   \n",
      "36      37                    47199                      0.044   \n",
      "37      38                    58875                      0.062   \n",
      "38      39                    55173                      0.053   \n",
      "39      40                    58633                      0.054   \n",
      "40      41                    44929                      0.057   \n",
      "41      42                    53053                      0.035   \n",
      "42      43                    43716                      0.057   \n",
      "43      44                    53875                      0.042   \n",
      "44      45                    63383                      0.036   \n",
      "45      46                    60708                      0.037   \n",
      "46      47                    66155                      0.043   \n",
      "47      48                    59068                      0.052   \n",
      "48      49                    39552                      0.073   \n",
      "49      50                    58080                      0.043   \n",
      "50      51                    55690                      0.040   \n",
      "\n",
      "    share_population_in_metro_areas  share_population_with_high_school_degree  \\\n",
      "0                              0.64                                     0.821   \n",
      "1                              0.63                                     0.914   \n",
      "2                              0.90                                     0.842   \n",
      "3                              0.69                                     0.824   \n",
      "4                              0.97                                     0.806   \n",
      "5                              0.80                                     0.893   \n",
      "6                              0.94                                     0.886   \n",
      "7                              0.90                                     0.874   \n",
      "8                              1.00                                     0.871   \n",
      "9                              0.96                                     0.853   \n",
      "10                             0.82                                     0.839   \n",
      "11                             0.76                                     0.904   \n",
      "12                             0.70                                     0.884   \n",
      "13                             0.90                                     0.864   \n",
      "14                             0.79                                     0.866   \n",
      "15                             0.60                                     0.914   \n",
      "16                             0.64                                     0.897   \n",
      "17                             0.56                                     0.817   \n",
      "18                             0.81                                     0.822   \n",
      "19                             0.54                                     0.902   \n",
      "20                             0.97                                     0.890   \n",
      "21                             0.97                                     0.890   \n",
      "22                             0.87                                     0.879   \n",
      "23                             0.75                                     0.915   \n",
      "24                             0.45                                     0.804   \n",
      "25                             0.78                                     0.868   \n",
      "26                             0.34                                     0.908   \n",
      "27                             0.60                                     0.898   \n",
      "28                             0.87                                     0.839   \n",
      "29                             0.63                                     0.913   \n",
      "30                             1.00                                     0.874   \n",
      "31                             0.69                                     0.828   \n",
      "32                             0.94                                     0.847   \n",
      "33                             0.76                                     0.843   \n",
      "34                             0.50                                     0.901   \n",
      "35                             0.75                                     0.876   \n",
      "36                             0.59                                     0.856   \n",
      "37                             0.87                                     0.891   \n",
      "38                             0.87                                     0.879   \n",
      "39                             1.00                                     0.847   \n",
      "40                             0.79                                     0.836   \n",
      "41                             0.51                                     0.899   \n",
      "42                             0.82                                     0.831   \n",
      "43                             0.92                                     0.799   \n",
      "44                             0.82                                     0.904   \n",
      "45                             0.35                                     0.910   \n",
      "46                             0.89                                     0.866   \n",
      "47                             0.86                                     0.897   \n",
      "48                             0.55                                     0.828   \n",
      "49                             0.69                                     0.898   \n",
      "50                             0.31                                     0.918   \n",
      "\n",
      "    share_non_citizen  share_white_poverty  gini_index  share_non_white  \\\n",
      "0                0.02                 0.12       0.472             0.35   \n",
      "1                0.04                 0.06       0.422             0.42   \n",
      "2                0.10                 0.09       0.455             0.49   \n",
      "3                0.04                 0.12       0.458             0.26   \n",
      "4                0.13                 0.09       0.471             0.61   \n",
      "5                0.06                 0.07       0.457             0.31   \n",
      "6                0.06                 0.06       0.486             0.30   \n",
      "7                0.05                 0.08       0.440             0.37   \n",
      "8                0.11                 0.04       0.532             0.63   \n",
      "9                0.09                 0.11       0.474             0.46   \n",
      "10               0.08                 0.09       0.468             0.48   \n",
      "11               0.08                 0.07       0.433             0.81   \n",
      "12               0.04                 0.11       0.433             0.16   \n",
      "13               0.07                 0.07       0.465             0.37   \n",
      "14               0.03                 0.12       0.440             0.20   \n",
      "15               0.03                 0.09       0.427             0.15   \n",
      "16               0.04                 0.11       0.445             0.25   \n",
      "17               0.03                 0.17       0.466             0.15   \n",
      "18               0.02                 0.12       0.475             0.42   \n",
      "19                NaN                 0.12       0.437             0.09   \n",
      "20               0.08                 0.06       0.443             0.50   \n",
      "21               0.09                 0.08       0.475             0.27   \n",
      "22               0.04                 0.09       0.451             0.24   \n",
      "23               0.05                 0.05       0.440             0.18   \n",
      "24                NaN                 0.14       0.468             0.44   \n",
      "25               0.02                 0.07       0.455             0.20   \n",
      "26               0.01                 0.10       0.435             0.10   \n",
      "27               0.05                 0.07       0.432             0.21   \n",
      "28               0.10                 0.08       0.448             0.50   \n",
      "29               0.03                 0.06       0.425             0.09   \n",
      "30               0.11                 0.07       0.464             0.44   \n",
      "31               0.06                 0.10       0.464             0.62   \n",
      "32               0.10                 0.10       0.499             0.42   \n",
      "33               0.05                 0.10       0.464             0.38   \n",
      "34               0.03                 0.09       0.433             0.15   \n",
      "35               0.03                 0.10       0.452             0.21   \n",
      "36               0.04                 0.10       0.454             0.35   \n",
      "37               0.07                 0.10       0.449             0.26   \n",
      "38               0.03                 0.09       0.461             0.24   \n",
      "39               0.08                 0.08       0.467             0.28   \n",
      "40               0.03                 0.09       0.461             0.36   \n",
      "41                NaN                 0.08       0.442             0.17   \n",
      "42               0.04                 0.13       0.468             0.27   \n",
      "43               0.11                 0.08       0.469             0.56   \n",
      "44               0.04                 0.08       0.419             0.19   \n",
      "45               0.01                 0.10       0.444             0.06   \n",
      "46               0.06                 0.07       0.459             0.38   \n",
      "47               0.08                 0.09       0.441             0.31   \n",
      "48               0.01                 0.14       0.451             0.07   \n",
      "49               0.03                 0.09       0.430             0.22   \n",
      "50               0.02                 0.09       0.423             0.15   \n",
      "\n",
      "    share_voters_voted_to_the_right  avg_biascrimes_per_100k  \n",
      "0                              0.63                 1.806410  \n",
      "1                              0.53                 1.656700  \n",
      "2                              0.50                 3.413928  \n",
      "3                              0.60                 0.869209  \n",
      "4                              0.33                 2.397986  \n",
      "5                              0.44                 2.804689  \n",
      "6                              0.41                 3.772701  \n",
      "7                              0.42                 1.469980  \n",
      "8                              0.04                10.953480  \n",
      "9                              0.49                 0.698070  \n",
      "10                             0.51                 0.412012  \n",
      "11                             0.30                      NaN  \n",
      "12                             0.59                 1.891331  \n",
      "13                             0.39                 1.044016  \n",
      "14                             0.57                 1.757357  \n",
      "15                             0.52                 0.561396  \n",
      "16                             0.57                 2.143987  \n",
      "17                             0.63                 4.207890  \n",
      "18                             0.58                 1.341170  \n",
      "19                             0.45                 2.626611  \n",
      "20                             0.35                 1.324840  \n",
      "21                             0.34                 4.801899  \n",
      "22                             0.48                 3.200442  \n",
      "23                             0.45                 3.612412  \n",
      "24                             0.58                 0.622746  \n",
      "25                             0.57                 1.908955  \n",
      "26                             0.57                 2.954959  \n",
      "27                             0.60                 2.686248  \n",
      "28                             0.46                 2.113990  \n",
      "29                             0.47                 2.105989  \n",
      "30                             0.42                 4.413203  \n",
      "31                             0.40                 1.886435  \n",
      "32                             0.37                 3.102164  \n",
      "33                             0.51                 1.262680  \n",
      "34                             0.64                 4.741070  \n",
      "35                             0.52                 3.240420  \n",
      "36                             0.65                 1.081672  \n",
      "37                             0.41                 3.394886  \n",
      "38                             0.49                 0.430928  \n",
      "39                             0.40                 1.282572  \n",
      "40                             0.55                 1.937083  \n",
      "41                             0.62                 3.301737  \n",
      "42                             0.61                 3.136051  \n",
      "43                             0.53                 0.752768  \n",
      "44                             0.47                 2.384065  \n",
      "45                             0.33                 1.903081  \n",
      "46                             0.45                 1.724755  \n",
      "47                             0.38                 3.817740  \n",
      "48                             0.69                 2.037054  \n",
      "49                             0.48                 1.121945  \n",
      "50                             0.70                 0.266941  \n"
     ]
    }
   ],
   "source": [
    "#declaring libraries/external modules\n",
    "import pandas as pd\n",
    "import seaborn as sb\n",
    "from matplotlib import pyplot as plt\n",
    "import statsmodels.formula.api as stat\n",
    "sb.set()\n",
    "\n",
    "# reading two csv files \n",
    "data1 = pd.read_csv('task2a.csv') \n",
    "data2 = pd.read_csv('task2b.csv') \n",
    "  \n",
    "# using merge function by setting how='inner' and on similar columns region \n",
    "df1 = pd.merge(data1, data2,  \n",
    "                   on='region',  \n",
    "                   how='inner') \n",
    "\n",
    "print(df1)"
   ]
  },
  {
   "cell_type": "markdown",
   "metadata": {
    "deletable": false
   },
   "source": [
    "<p style=\"color:red; font-weight:bold; font-size:xx-small\">MARK: __%</p>\n",
    "<p style=\"color:red; font-weight:bold; font-size:xx-small\">FEEDBACK: </p>"
   ]
  },
  {
   "cell_type": "markdown",
   "metadata": {
    "deletable": false
   },
   "source": [
    "### Requirement FR10 - Clean the merged data"
   ]
  },
  {
   "cell_type": "code",
   "execution_count": 58,
   "metadata": {},
   "outputs": [
    {
     "name": "stdout",
     "output_type": "stream",
     "text": [
      "    region  median_household_income  share_unemployed_seasonal  \\\n",
      "0        1                    42278                      0.060   \n",
      "1        2                    67629                      0.064   \n",
      "2        3                    49254                      0.063   \n",
      "3        4                    44922                      0.052   \n",
      "4        5                    60487                      0.059   \n",
      "5        6                    60940                      0.040   \n",
      "6        7                    70161                      0.052   \n",
      "7        8                    57522                      0.049   \n",
      "8        9                    68277                      0.067   \n",
      "9       10                    46140                      0.052   \n",
      "10      11                    49555                      0.058   \n",
      "12      13                    53438                      0.042   \n",
      "13      14                    54916                      0.054   \n",
      "14      15                    48060                      0.044   \n",
      "15      16                    57810                      0.036   \n",
      "16      17                    53444                      0.044   \n",
      "17      18                    42786                      0.050   \n",
      "18      19                    42406                      0.060   \n",
      "20      21                    76165                      0.051   \n",
      "21      22                    63151                      0.046   \n",
      "22      23                    52005                      0.050   \n",
      "23      24                    67244                      0.038   \n",
      "25      26                    56630                      0.053   \n",
      "26      27                    51102                      0.041   \n",
      "27      28                    56870                      0.029   \n",
      "28      29                    49875                      0.067   \n",
      "29      30                    73397                      0.034   \n",
      "30      31                    65243                      0.056   \n",
      "31      32                    46686                      0.068   \n",
      "32      33                    54310                      0.051   \n",
      "33      34                    46784                      0.058   \n",
      "34      35                    60730                      0.028   \n",
      "35      36                    49644                      0.045   \n",
      "36      37                    47199                      0.044   \n",
      "37      38                    58875                      0.062   \n",
      "38      39                    55173                      0.053   \n",
      "39      40                    58633                      0.054   \n",
      "40      41                    44929                      0.057   \n",
      "42      43                    43716                      0.057   \n",
      "43      44                    53875                      0.042   \n",
      "44      45                    63383                      0.036   \n",
      "45      46                    60708                      0.037   \n",
      "46      47                    66155                      0.043   \n",
      "47      48                    59068                      0.052   \n",
      "48      49                    39552                      0.073   \n",
      "49      50                    58080                      0.043   \n",
      "50      51                    55690                      0.040   \n",
      "\n",
      "    share_population_in_metro_areas  share_population_with_high_school_degree  \\\n",
      "0                              0.64                                     0.821   \n",
      "1                              0.63                                     0.914   \n",
      "2                              0.90                                     0.842   \n",
      "3                              0.69                                     0.824   \n",
      "4                              0.97                                     0.806   \n",
      "5                              0.80                                     0.893   \n",
      "6                              0.94                                     0.886   \n",
      "7                              0.90                                     0.874   \n",
      "8                              1.00                                     0.871   \n",
      "9                              0.96                                     0.853   \n",
      "10                             0.82                                     0.839   \n",
      "12                             0.70                                     0.884   \n",
      "13                             0.90                                     0.864   \n",
      "14                             0.79                                     0.866   \n",
      "15                             0.60                                     0.914   \n",
      "16                             0.64                                     0.897   \n",
      "17                             0.56                                     0.817   \n",
      "18                             0.81                                     0.822   \n",
      "20                             0.97                                     0.890   \n",
      "21                             0.97                                     0.890   \n",
      "22                             0.87                                     0.879   \n",
      "23                             0.75                                     0.915   \n",
      "25                             0.78                                     0.868   \n",
      "26                             0.34                                     0.908   \n",
      "27                             0.60                                     0.898   \n",
      "28                             0.87                                     0.839   \n",
      "29                             0.63                                     0.913   \n",
      "30                             1.00                                     0.874   \n",
      "31                             0.69                                     0.828   \n",
      "32                             0.94                                     0.847   \n",
      "33                             0.76                                     0.843   \n",
      "34                             0.50                                     0.901   \n",
      "35                             0.75                                     0.876   \n",
      "36                             0.59                                     0.856   \n",
      "37                             0.87                                     0.891   \n",
      "38                             0.87                                     0.879   \n",
      "39                             1.00                                     0.847   \n",
      "40                             0.79                                     0.836   \n",
      "42                             0.82                                     0.831   \n",
      "43                             0.92                                     0.799   \n",
      "44                             0.82                                     0.904   \n",
      "45                             0.35                                     0.910   \n",
      "46                             0.89                                     0.866   \n",
      "47                             0.86                                     0.897   \n",
      "48                             0.55                                     0.828   \n",
      "49                             0.69                                     0.898   \n",
      "50                             0.31                                     0.918   \n",
      "\n",
      "    share_non_citizen  share_white_poverty  gini_index  share_non_white  \\\n",
      "0                0.02                 0.12       0.472             0.35   \n",
      "1                0.04                 0.06       0.422             0.42   \n",
      "2                0.10                 0.09       0.455             0.49   \n",
      "3                0.04                 0.12       0.458             0.26   \n",
      "4                0.13                 0.09       0.471             0.61   \n",
      "5                0.06                 0.07       0.457             0.31   \n",
      "6                0.06                 0.06       0.486             0.30   \n",
      "7                0.05                 0.08       0.440             0.37   \n",
      "8                0.11                 0.04       0.532             0.63   \n",
      "9                0.09                 0.11       0.474             0.46   \n",
      "10               0.08                 0.09       0.468             0.48   \n",
      "12               0.04                 0.11       0.433             0.16   \n",
      "13               0.07                 0.07       0.465             0.37   \n",
      "14               0.03                 0.12       0.440             0.20   \n",
      "15               0.03                 0.09       0.427             0.15   \n",
      "16               0.04                 0.11       0.445             0.25   \n",
      "17               0.03                 0.17       0.466             0.15   \n",
      "18               0.02                 0.12       0.475             0.42   \n",
      "20               0.08                 0.06       0.443             0.50   \n",
      "21               0.09                 0.08       0.475             0.27   \n",
      "22               0.04                 0.09       0.451             0.24   \n",
      "23               0.05                 0.05       0.440             0.18   \n",
      "25               0.02                 0.07       0.455             0.20   \n",
      "26               0.01                 0.10       0.435             0.10   \n",
      "27               0.05                 0.07       0.432             0.21   \n",
      "28               0.10                 0.08       0.448             0.50   \n",
      "29               0.03                 0.06       0.425             0.09   \n",
      "30               0.11                 0.07       0.464             0.44   \n",
      "31               0.06                 0.10       0.464             0.62   \n",
      "32               0.10                 0.10       0.499             0.42   \n",
      "33               0.05                 0.10       0.464             0.38   \n",
      "34               0.03                 0.09       0.433             0.15   \n",
      "35               0.03                 0.10       0.452             0.21   \n",
      "36               0.04                 0.10       0.454             0.35   \n",
      "37               0.07                 0.10       0.449             0.26   \n",
      "38               0.03                 0.09       0.461             0.24   \n",
      "39               0.08                 0.08       0.467             0.28   \n",
      "40               0.03                 0.09       0.461             0.36   \n",
      "42               0.04                 0.13       0.468             0.27   \n",
      "43               0.11                 0.08       0.469             0.56   \n",
      "44               0.04                 0.08       0.419             0.19   \n",
      "45               0.01                 0.10       0.444             0.06   \n",
      "46               0.06                 0.07       0.459             0.38   \n",
      "47               0.08                 0.09       0.441             0.31   \n",
      "48               0.01                 0.14       0.451             0.07   \n",
      "49               0.03                 0.09       0.430             0.22   \n",
      "50               0.02                 0.09       0.423             0.15   \n",
      "\n",
      "    avg_biascrimes_per_100k  \n",
      "0                  1.806410  \n",
      "1                  1.656700  \n",
      "2                  3.413928  \n",
      "3                  0.869209  \n",
      "4                  2.397986  \n",
      "5                  2.804689  \n",
      "6                  3.772701  \n",
      "7                  1.469980  \n",
      "8                 10.953480  \n",
      "9                  0.698070  \n",
      "10                 0.412012  \n",
      "12                 1.891331  \n",
      "13                 1.044016  \n",
      "14                 1.757357  \n",
      "15                 0.561396  \n",
      "16                 2.143987  \n",
      "17                 4.207890  \n",
      "18                 1.341170  \n",
      "20                 1.324840  \n",
      "21                 4.801899  \n",
      "22                 3.200442  \n",
      "23                 3.612412  \n",
      "25                 1.908955  \n",
      "26                 2.954959  \n",
      "27                 2.686248  \n",
      "28                 2.113990  \n",
      "29                 2.105989  \n",
      "30                 4.413203  \n",
      "31                 1.886435  \n",
      "32                 3.102164  \n",
      "33                 1.262680  \n",
      "34                 4.741070  \n",
      "35                 3.240420  \n",
      "36                 1.081672  \n",
      "37                 3.394886  \n",
      "38                 0.430928  \n",
      "39                 1.282572  \n",
      "40                 1.937083  \n",
      "42                 3.136051  \n",
      "43                 0.752768  \n",
      "44                 2.384065  \n",
      "45                 1.903081  \n",
      "46                 1.724755  \n",
      "47                 3.817740  \n",
      "48                 2.037054  \n",
      "49                 1.121945  \n",
      "50                 0.266941  \n"
     ]
    }
   ],
   "source": [
    "df2= df1.dropna() # drop null values\n",
    "\n",
    "df3 = df2.drop('share_voters_voted_to_the_right', axis=1) #drop column\n",
    "print (df3)\n"
   ]
  },
  {
   "cell_type": "markdown",
   "metadata": {
    "deletable": false
   },
   "source": [
    "<p style=\"color:red; font-weight:bold; font-size:xx-small\">MARK: __%</p>\n",
    "<p style=\"color:red; font-weight:bold; font-size:xx-small\">FEEDBACK: </p>"
   ]
  },
  {
   "cell_type": "markdown",
   "metadata": {
    "deletable": false
   },
   "source": [
    "### Requirement FR11 - Investigate the effects of household income on levels of bias crimes"
   ]
  },
  {
   "cell_type": "code",
   "execution_count": 59,
   "metadata": {
    "pycharm": {
     "name": "#%%\n"
    }
   },
   "outputs": [
    {
     "data": {
      "text/plain": [
       "[Text(0.5, 1.0, 'After outliers are removed')]"
      ]
     },
     "execution_count": 59,
     "metadata": {},
     "output_type": "execute_result"
    },
    {
     "data": {
      "image/png": "[encoded data removed]",
      "text/plain": [
       "<Figure size 720x360 with 2 Axes>"
      ]
     },
     "metadata": {},
     "output_type": "display_data"
    }
   ],
   "source": [
    "fig, axes = plt.subplots(1, 2, figsize=(10, 5), sharey=True)\n",
    "fig.suptitle('ALL IN ALL')\n",
    "\n",
    "sb.set_style('whitegrid')\n",
    "sb.regplot( data=df3, x=\"median_household_income\", y=\"avg_biascrimes_per_100k\", ax=axes[0]).set(title='Relationship Between Household Income and BiasCrimes')\n",
    "\n",
    "\n",
    "'''\n",
    "This plot shows low significant correlation between median house hold income and average bias crime \n",
    "as there is a rise and fall in biascrimes as we move from left to right\n",
    "In the plot, it is shown there is one outlier\n",
    "'''\n",
    "\n",
    "df4 = df3.drop(df3[df3['avg_biascrimes_per_100k']>5.5].index, axis ='index')\n",
    "\n",
    "sb.regplot( data=df4, x=\"median_household_income\", y=\"avg_biascrimes_per_100k\", ax=axes[1]).set(title='After outliers are removed')\n",
    "\n"
   ]
  },
  {
   "cell_type": "code",
   "execution_count": 65,
   "metadata": {},
   "outputs": [
    {
     "data": {
      "text/plain": [
       "'\\ntaking a broader look at the graph after outliers are removed, we can see it does not affect the readings\\n'"
      ]
     },
     "execution_count": 65,
     "metadata": {},
     "output_type": "execute_result"
    },
    {
     "data": {
      "image/png": "[encoded data removed]",
      "text/plain": [
       "<Figure size 432x288 with 1 Axes>"
      ]
     },
     "metadata": {},
     "output_type": "display_data"
    }
   ],
   "source": [
    "\n",
    "df4 = df3.drop(df3[df3['avg_biascrimes_per_100k']>5.5].index, axis ='index')\n",
    "\n",
    "sb.regplot( data=df4, x=\"median_household_income\", y=\"avg_biascrimes_per_100k\").set(title='After outliers are removed')\n",
    "\n",
    "'''\n",
    "taking a broader look at the graph after outliers are removed, we can see it does not affect the readings\n",
    "for further analysis, we would be taking a hypothesis test to find out the correlation and p-vaue to determine \n",
    "if there is a stronger relationship\n",
    "'''\n",
    "\n"
   ]
  },
  {
   "cell_type": "markdown",
   "metadata": {
    "deletable": false
   },
   "source": [
    "<p style=\"color:red; font-weight:bold; font-size:xx-small\">MARK: __%</p>\n",
    "<p style=\"color:red; font-weight:bold; font-size:xx-small\">FEEDBACK: </p>"
   ]
  },
  {
   "cell_type": "markdown",
   "metadata": {
    "deletable": false
   },
   "source": [
    "### Requirement FR12 - Test the hypothesis that household income has no effect on levels of bias crime"
   ]
  },
  {
   "cell_type": "code",
   "execution_count": 66,
   "metadata": {},
   "outputs": [
    {
     "name": "stdout",
     "output_type": "stream",
     "text": [
      "                               OLS Regression Results                              \n",
      "===================================================================================\n",
      "Dep. Variable:     median_household_income   R-squared:                       0.088\n",
      "Model:                                 OLS   Adj. R-squared:                  0.067\n",
      "Method:                      Least Squares   F-statistic:                     4.316\n",
      "Date:                     Sun, 30 Jan 2022   Prob (F-statistic):             0.0435\n",
      "Time:                             13:11:27   Log-Likelihood:                -491.01\n",
      "No. Observations:                       47   AIC:                             986.0\n",
      "Df Residuals:                           45   BIC:                             989.7\n",
      "Df Model:                                1                                         \n",
      "Covariance Type:                 nonrobust                                         \n",
      "===========================================================================================\n",
      "                              coef    std err          t      P>|t|      [0.025      0.975]\n",
      "-------------------------------------------------------------------------------------------\n",
      "Intercept                5.187e+04   2115.635     24.515      0.000    4.76e+04    5.61e+04\n",
      "avg_biascrimes_per_100k  1495.1989    719.750      2.077      0.044      45.549    2944.849\n",
      "==============================================================================\n",
      "Omnibus:                        1.169   Durbin-Watson:                   1.954\n",
      "Prob(Omnibus):                  0.557   Jarque-Bera (JB):                0.853\n",
      "Skew:                           0.329   Prob(JB):                        0.653\n",
      "Kurtosis:                       2.962   Cond. No.                         5.40\n",
      "==============================================================================\n",
      "\n",
      "Notes:\n",
      "[1] Standard Errors assume that the covariance matrix of the errors is correctly specified.\n"
     ]
    },
    {
     "data": {
      "text/html": [
       "<div>\n",
       "<style scoped>\n",
       "    .dataframe tbody tr th:only-of-type {\n",
       "        vertical-align: middle;\n",
       "    }\n",
       "\n",
       "    .dataframe tbody tr th {\n",
       "        vertical-align: top;\n",
       "    }\n",
       "\n",
       "    .dataframe thead th {\n",
       "        text-align: right;\n",
       "    }\n",
       "</style>\n",
       "<table border=\"1\" class=\"dataframe\">\n",
       "  <thead>\n",
       "    <tr style=\"text-align: right;\">\n",
       "      <th></th>\n",
       "      <th>median_household_income</th>\n",
       "      <th>avg_biascrimes_per_100k</th>\n",
       "    </tr>\n",
       "  </thead>\n",
       "  <tbody>\n",
       "    <tr>\n",
       "      <th>median_household_income</th>\n",
       "      <td>1.000000</td>\n",
       "      <td>0.295819</td>\n",
       "    </tr>\n",
       "    <tr>\n",
       "      <th>avg_biascrimes_per_100k</th>\n",
       "      <td>0.295819</td>\n",
       "      <td>1.000000</td>\n",
       "    </tr>\n",
       "  </tbody>\n",
       "</table>\n",
       "</div>"
      ],
      "text/plain": [
       "                         median_household_income  avg_biascrimes_per_100k\n",
       "median_household_income                 1.000000                 0.295819\n",
       "avg_biascrimes_per_100k                 0.295819                 1.000000"
      ]
     },
     "execution_count": 66,
     "metadata": {},
     "output_type": "execute_result"
    }
   ],
   "source": [
    "statistics = stat.ols('median_household_income ~ avg_biascrimes_per_100k',df3).fit()\n",
    "print(statistics.summary())\n",
    "\n",
    "df3[['median_household_income', 'avg_biascrimes_per_100k']].corr()\n",
    "\n"
   ]
  },
  {
   "cell_type": "code",
   "execution_count": null,
   "metadata": {},
   "outputs": [],
   "source": [
    "'''\n",
    "My two hypothesis;\n",
    "Ho: No relationship between variables\n",
    "Hi: A level of relationship between variables\n",
    "\n",
    "According to the regression summary below, it is shown that the correlation coefficient is 0.296. This shows that\n",
    "there is a weak linear relationship between the two variables\n",
    "\n",
    "With P-value been 0.044 which is below 0.05(my significant level), this adequately rejects my null hypothesis \n",
    "and states that there is a relationship between the two variables however weak\n",
    "'''"
   ]
  },
  {
   "cell_type": "markdown",
   "metadata": {
    "deletable": false
   },
   "source": [
    "<p style=\"color:red; font-weight:bold; font-size:xx-small\">MARK: __%</p>\n",
    "<p style=\"color:red; font-weight:bold; font-size:xx-small\">FEEDBACK: </p>"
   ]
  },
  {
   "cell_type": "markdown",
   "metadata": {
    "deletable": false
   },
   "source": [
    "### Requirement FR13 - Investigate the effects of urbanisation on levels of bias crimes"
   ]
  },
  {
   "cell_type": "code",
   "execution_count": 68,
   "metadata": {},
   "outputs": [
    {
     "data": {
      "text/plain": [
       "'\\nThis plot shows low significant correlation between between median house hold income and average bias crime\\nIn the plot, it is shown there is one outlier\\n'"
      ]
     },
     "execution_count": 68,
     "metadata": {},
     "output_type": "execute_result"
    },
    {
     "data": {
      "image/png": "[encoded data removed]",
      "text/plain": [
       "<Figure size 432x288 with 1 Axes>"
      ]
     },
     "metadata": {},
     "output_type": "display_data"
    }
   ],
   "source": [
    "sb.set_style('whitegrid')\n",
    "sb.regplot( data=df3, x=\"share_population_in_metro_areas\", y=\"avg_biascrimes_per_100k\").set(title='Relationship Between Population in Metro Areas and BiasCrimes')\n",
    "\n",
    "\n",
    "'''\n",
    "This plot shows no significant correlation between between median house hold income and average bias crime\n",
    "as there is a rise and fall in biascrimes as we move from left to right\n",
    "In the plot, it is shown there is one outlier\n",
    "'''\n"
   ]
  },
  {
   "cell_type": "code",
   "execution_count": 70,
   "metadata": {},
   "outputs": [
    {
     "data": {
      "text/plain": [
       "'\\ntaking a broader look at the graph after outliers are removed, we can see it does not affect the readings\\n'"
      ]
     },
     "execution_count": 70,
     "metadata": {},
     "output_type": "execute_result"
    },
    {
     "data": {
      "image/png": "[encoded data removed]",
      "text/plain": [
       "<Figure size 432x288 with 1 Axes>"
      ]
     },
     "metadata": {},
     "output_type": "display_data"
    }
   ],
   "source": [
    "\n",
    "df4 = df3.drop(df3[df3['avg_biascrimes_per_100k']>6].index, axis ='index')\n",
    "\n",
    "sb.regplot( data=df4, x=\"median_household_income\", y=\"avg_biascrimes_per_100k\").set(title='After outliers are removed')\n",
    "\n",
    "'''\n",
    "taking a broader look at the graph after outliers are removed, we can see it does not affect the readings\n",
    "for further analysis, we would be taking a hypothesis test to find out the correlation and p-vaue to determine \n",
    "if there is any correlation\n",
    "'''\n",
    "\n",
    "\n"
   ]
  },
  {
   "cell_type": "markdown",
   "metadata": {
    "deletable": false
   },
   "source": [
    "<p style=\"color:red; font-weight:bold; font-size:xx-small\">MARK: __%</p>\n",
    "<p style=\"color:red; font-weight:bold; font-size:xx-small\">FEEDBACK: </p>"
   ]
  },
  {
   "cell_type": "markdown",
   "metadata": {
    "deletable": false
   },
   "source": [
    "### Requirement FR14 - Test the hypothesis that urbanisation has a significant effect on levels of bias crimes"
   ]
  },
  {
   "cell_type": "code",
   "execution_count": 53,
   "metadata": {},
   "outputs": [
    {
     "name": "stdout",
     "output_type": "stream",
     "text": [
      "                                   OLS Regression Results                                  \n",
      "===========================================================================================\n",
      "Dep. Variable:     share_population_in_metro_areas   R-squared:                       0.044\n",
      "Model:                                         OLS   Adj. R-squared:                  0.023\n",
      "Method:                              Least Squares   F-statistic:                     2.065\n",
      "Date:                             Sun, 30 Jan 2022   Prob (F-statistic):              0.158\n",
      "Time:                                     00:05:05   Log-Likelihood:                 16.193\n",
      "No. Observations:                               47   AIC:                            -28.39\n",
      "Df Residuals:                                   45   BIC:                            -24.69\n",
      "Df Model:                                        1                                         \n",
      "Covariance Type:                         nonrobust                                         \n",
      "===========================================================================================\n",
      "                              coef    std err          t      P>|t|      [0.025      0.975]\n",
      "-------------------------------------------------------------------------------------------\n",
      "Intercept                   0.7153      0.044     16.434      0.000       0.628       0.803\n",
      "avg_biascrimes_per_100k     0.0213      0.015      1.437      0.158      -0.009       0.051\n",
      "==============================================================================\n",
      "Omnibus:                        6.352   Durbin-Watson:                   1.662\n",
      "Prob(Omnibus):                  0.042   Jarque-Bera (JB):                5.719\n",
      "Skew:                          -0.850   Prob(JB):                       0.0573\n",
      "Kurtosis:                       3.174   Cond. No.                         5.40\n",
      "==============================================================================\n",
      "\n",
      "Notes:\n",
      "[1] Standard Errors assume that the covariance matrix of the errors is correctly specified.\n"
     ]
    },
    {
     "data": {
      "text/html": [
       "<div>\n",
       "<style scoped>\n",
       "    .dataframe tbody tr th:only-of-type {\n",
       "        vertical-align: middle;\n",
       "    }\n",
       "\n",
       "    .dataframe tbody tr th {\n",
       "        vertical-align: top;\n",
       "    }\n",
       "\n",
       "    .dataframe thead th {\n",
       "        text-align: right;\n",
       "    }\n",
       "</style>\n",
       "<table border=\"1\" class=\"dataframe\">\n",
       "  <thead>\n",
       "    <tr style=\"text-align: right;\">\n",
       "      <th></th>\n",
       "      <th>share_population_in_metro_areas</th>\n",
       "      <th>avg_biascrimes_per_100k</th>\n",
       "    </tr>\n",
       "  </thead>\n",
       "  <tbody>\n",
       "    <tr>\n",
       "      <th>share_population_in_metro_areas</th>\n",
       "      <td>1.000000</td>\n",
       "      <td>0.209463</td>\n",
       "    </tr>\n",
       "    <tr>\n",
       "      <th>avg_biascrimes_per_100k</th>\n",
       "      <td>0.209463</td>\n",
       "      <td>1.000000</td>\n",
       "    </tr>\n",
       "  </tbody>\n",
       "</table>\n",
       "</div>"
      ],
      "text/plain": [
       "                                 share_population_in_metro_areas  \\\n",
       "share_population_in_metro_areas                         1.000000   \n",
       "avg_biascrimes_per_100k                                 0.209463   \n",
       "\n",
       "                                 avg_biascrimes_per_100k  \n",
       "share_population_in_metro_areas                 0.209463  \n",
       "avg_biascrimes_per_100k                         1.000000  "
      ]
     },
     "execution_count": 53,
     "metadata": {},
     "output_type": "execute_result"
    }
   ],
   "source": [
    "statistics = stat.ols('share_population_in_metro_areas ~ avg_biascrimes_per_100k',df3).fit() \n",
    "print(statistics.summary())\n",
    "\n",
    "df3[['share_population_in_metro_areas', 'avg_biascrimes_per_100k']].corr()\n"
   ]
  },
  {
   "cell_type": "code",
   "execution_count": null,
   "metadata": {},
   "outputs": [],
   "source": [
    "'''\n",
    "My two hypothesis;\n",
    "Ho: No relationship between variables\n",
    "Hi: A level of relationship between variables\n",
    "\n",
    "According to the regression summary below, it is shown that the correlation coefficient is 0.210. This shows that\n",
    "there is a weak linear relationship between the two variables\n",
    "\n",
    "With P-value been 0.158 which is above 0.05(my significant level), this adequately accepts my null hypothesis \n",
    "and states that there is no adequate relationship between the two variables\n",
    "'''"
   ]
  },
  {
   "cell_type": "markdown",
   "metadata": {
    "deletable": false
   },
   "source": [
    "<p style=\"color:red; font-weight:bold; font-size:xx-small\">MARK: __%</p>\n",
    "<p style=\"color:red; font-weight:bold; font-size:xx-small\">FEEDBACK: </p>"
   ]
  },
  {
   "cell_type": "markdown",
   "metadata": {
    "deletable": false
   },
   "source": [
    "# Coding Standards\n",
    "<p style=\"color:red; font-weight:bold; font-size:xx-small\">MARK: __%</p>\n",
    "<p style=\"color:red; font-weight:bold; font-size:xx-small\">FEEDBACK: </p>"
   ]
  },
  {
   "cell_type": "markdown",
   "metadata": {},
   "source": [
    "# Process Development Report for Task 2\n"
   ]
  },
  {
   "cell_type": "markdown",
   "metadata": {},
   "source": [
    "# Development Process Report\n",
    "\n",
    "This is similar to task1, but having the option of using libraries and modules. nFor the first two questions, I had considered purley using \n",
    "csv reader or hardcoding it to enhance my experience, but because of time, i had decided to forgo it and use pandas and other visualization tool.\n",
    "\n",
    "On using the describe() from pandas, i quickly noticed that it mirrored what task1 was supposed to achieve. So in hindsight, hardcoding the first two questions wouldnt have proved difficult as i thought.\n",
    "\n",
    "In the last 4 questions, exploratory analysis has to be done on the data. This involves the use of visualization to plot the graph to explain and also the use of statistics modules to analyze and find the P-value and correlation coefficient to see if there is any linear relationship between two variables. This is done in other to know if a dependent variable is determinded by the rise or fall of the independent variable. \n"
   ]
  },
  {
   "cell_type": "markdown",
   "metadata": {},
   "source": [
    "<p style=\"color:red; font-weight:bold; font-size:xx-small\">MARK: __%</p>\n",
    "<p style=\"color:red; font-weight:bold; font-size:xx-small\">FEEDBACK: </p>"
   ]
  }
 ],
 "metadata": {
  "kernelspec": {
   "display_name": "Python 3 (ipykernel)",
   "language": "python",
   "name": "python3"
  },
  "language_info": {
   "codemirror_mode": {
    "name": "ipython",
    "version": 3
   },
   "file_extension": ".py",
   "mimetype": "text/x-python",
   "name": "python",
   "nbconvert_exporter": "python",
   "pygments_lexer": "ipython3",
   "version": "3.8.8"
  }
 },
 "nbformat": 4,
 "nbformat_minor": 4
}