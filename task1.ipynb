{
 "cells": [
  {
   "cell_type": "markdown",
   "metadata": {},
   "source": [
    "# UFCFVQ-15-M Programming for Data Science (Autumn 2021)\n",
    "# Programming Task 1\n",
    "\n",
    "## Student Id: 21050307 "
   ]
  },
  {
   "cell_type": "markdown",
   "metadata": {
    "deletable": false
   },
   "source": [
    "<p style=\"color:red; font-weight:bold; font-size:xx-small\">OVERALL COURSEWORK MARK: ___%</p>"
   ]
  },
  {
   "cell_type": "code",
   "execution_count": 2,
   "metadata": {},
   "outputs": [],
   "source": [
    "numbers = [6,2,22,21,24,23,8,9,5,3,11,28,14,13,12,26,29,16,15,20,25,1,10,18,27,19,7] #list of numbers"
   ]
  },
  {
   "cell_type": "markdown",
   "metadata": {
    "deletable": false
   },
   "source": [
    "### Requirement FR1 - Develop a function to find the arithmetic mean"
   ]
  },
  {
   "cell_type": "code",
   "execution_count": 3,
   "metadata": {},
   "outputs": [
    {
     "name": "stdout",
     "output_type": "stream",
     "text": [
      "15.333333333333334\n"
     ]
    }
   ],
   "source": [
    "# hardcoding len() and sum() functions\n",
    "\n",
    "def total_numbers(numbers):\n",
    "    total_numbers = 0 #initial count of numbers set to '0'\n",
    "    # increase count on each loop\n",
    "    for y in numbers:\n",
    "        total_numbers +=1\n",
    "    return total_numbers\n",
    "\n",
    "def sum_of_numbers(numbers):\n",
    "    sum = 0  #initial count of numbers set to '0'\n",
    "    # increase sum on each loop\n",
    "    for y in numbers: \n",
    "        sum += y\n",
    "    return sum\n",
    "\n",
    "\n",
    "def mean(numbers):\n",
    "    mean = sum_of_numbers(numbers)/total_numbers(numbers) # mean = total sum / total numbers\n",
    "    return mean\n",
    "    \n",
    "print(mean(numbers))"
   ]
  },
  {
   "cell_type": "markdown",
   "metadata": {
    "deletable": false
   },
   "source": [
    "<p style=\"color:red; font-weight:bold; font-size:xx-small\">MARK: __%</p>\n",
    "<p style=\"color:red; font-weight:bold; font-size:xx-small\">FEEDBACK: </p>"
   ]
  },
  {
   "cell_type": "markdown",
   "metadata": {
    "deletable": false
   },
   "source": [
    "### Requirement FR2 - Develop a function to find the standard deviation"
   ]
  },
  {
   "cell_type": "code",
   "execution_count": 4,
   "metadata": {},
   "outputs": [
    {
     "name": "stdout",
     "output_type": "stream",
     "text": [
      "8.393118874676114\n"
     ]
    }
   ],
   "source": [
    "def sd(numbers):\n",
    "   \n",
    "    new_list = [(x - mean(numbers)) ** 2 for x in numbers] #loop through numbers and (each number minus mean) raised to the power of 2\n",
    "    # find standard_deviation\n",
    "    variance = sum_of_numbers(new_list) / total_numbers(numbers)\n",
    "    sd = variance ** (1/2)\n",
    "    return sd\n",
    "\n",
    "print(sd(numbers))"
   ]
  },
  {
   "cell_type": "markdown",
   "metadata": {
    "deletable": false
   },
   "source": [
    "<p style=\"color:red; font-weight:bold; font-size:xx-small\">MARK: __%</p>\n",
    "<p style=\"color:red; font-weight:bold; font-size:xx-small\">FEEDBACK: </p>"
   ]
  },
  {
   "cell_type": "markdown",
   "metadata": {
    "deletable": false
   },
   "source": [
    "### Requirement FR3 - Develop a function to find the min/max values and count "
   ]
  },
  {
   "cell_type": "code",
   "execution_count": 5,
   "metadata": {},
   "outputs": [
    {
     "name": "stdout",
     "output_type": "stream",
     "text": [
      "(1, 29, 27)\n"
     ]
    }
   ],
   "source": [
    "# hardcoding min(), max() function\n",
    "def min_max(numbers):\n",
    "    maximum = minimum = numbers[0] # set minimum and maximum values to first number in list\n",
    "    # loop through the rest of numbers and \n",
    "    # if number < current minimum, let that be new minimum and\n",
    "    # if number > current maximum, let that be new minimum \n",
    "    for y in numbers[1:]:\n",
    "        if y< minimum:\n",
    "            minimum = y\n",
    "        elif y>maximum:\n",
    "            maximum = y\n",
    "\n",
    "    return minimum,maximum\n",
    "\n",
    "def min_max_total(numbers):\n",
    "    return min_max(numbers)[0] ,min_max(numbers)[1], total_numbers(numbers)\n",
    "\n",
    "print(min_max_total(numbers))"
   ]
  },
  {
   "cell_type": "markdown",
   "metadata": {
    "deletable": false
   },
   "source": [
    "<p style=\"color:red; font-weight:bold; font-size:xx-small\">MARK: __%</p>\n",
    "<p style=\"color:red; font-weight:bold; font-size:xx-small\">FEEDBACK: </p>"
   ]
  },
  {
   "cell_type": "markdown",
   "metadata": {
    "deletable": false
   },
   "source": [
    "### Requirement FR4 - Develop a function to find the 25th, 50th and 75th percentiles "
   ]
  },
  {
   "cell_type": "code",
   "execution_count": 6,
   "metadata": {},
   "outputs": [
    {
     "name": "stdout",
     "output_type": "stream",
     "text": [
      "9\n",
      "16\n",
      "24\n"
     ]
    }
   ],
   "source": [
    "def percentile(numbers, percentile):\n",
    "    numbers.sort() #sort list in ascending order\n",
    "    rank = round((percentile/100) * (total_numbers(numbers)+1))\n",
    "    return numbers[rank] #return rank index on list\n",
    "\n",
    "print(percentile(numbers,25))\n",
    "print(percentile(numbers,50))\n",
    "print(percentile(numbers,75))\n"
   ]
  },
  {
   "cell_type": "markdown",
   "metadata": {
    "deletable": false
   },
   "source": [
    "<p style=\"color:red; font-weight:bold; font-size:xx-small\">MARK: __%</p>\n",
    "<p style=\"color:red; font-weight:bold; font-size:xx-small\">FEEDBACK: </p>"
   ]
  },
  {
   "cell_type": "markdown",
   "metadata": {
    "deletable": false
   },
   "source": [
    "### Requirement FR5 - Develop a function to read a single column from a CSV file"
   ]
  },
  {
   "cell_type": "code",
   "execution_count": 7,
   "metadata": {},
   "outputs": [
    {
     "name": "stdout",
     "output_type": "stream",
     "text": [
      "('Other', ['0', '2.29693941', '3.539346', '4.763252129', '0.0811', '0.008019927', '0.109149431', '5.427544126', '52.88998503', '0.496261903', '0.679177831', '9.588635536', '6.737367486', '90.72346175', '2.088838157', '0.682716361', '0.05136', '4.7285', '6.119796142', '0.427967651', '0', '1.369850244', '0.23331662', '12.86168421', '8.521197318', '51.437', '0.298303335', '0.100724044', '2.371182482', '6.009414916', '30.45869682', '14.5368', '0.021740437', '0', '1.242427268', '0.115', '25.31219835', '33.6554308', '0.0024284', '0', '0.962146042', '0.47', '0.226101964', '0.05405', '1.004339878', '6.480283932', '0', '4.875860296', '8.320907599', '0.178266653', '0', '0.163131005', '0.022', '1.39699069', '0.0041', '', '2.647315578', '0.222533905', '1.667658529', '0.674414968', '11.540128', '6.331', '3.439', '0.114486339', '0.4617102', '0.4645', '0', '0.903', '1.419478261', '0.28827567', '0.530431005', '10.1747942', '7.378921565', '0.11339364', '11.85871366', '1.974071402', '2.01435', '12.31650175', '0', '9.983786807', '0', '0.218506543', '0.005983607', '35.58660245', '83.67703684', '0', '0', '0.060833333'])\n"
     ]
    }
   ],
   "source": [
    "def read_column(file,column):\n",
    "    with open(file, 'r') as f:\n",
    "        results = [] # create empty list\n",
    "        for line in f:\n",
    "            words = line.strip().split(',') # remove spaces/newline and split each line by comma\n",
    "            results.append(words[column]) # append only the declared column/index\n",
    "    f.close()\n",
    "    return results[0],results[1:] #return first element first and then , rest of item as a tuple\n",
    "print(read_column('task1.csv',3))"
   ]
  },
  {
   "cell_type": "markdown",
   "metadata": {
    "deletable": false
   },
   "source": [
    "<p style=\"color:red; font-weight:bold; font-size:xx-small\">MARK: __%</p>\n",
    "<p style=\"color:red; font-weight:bold; font-size:xx-small\">FEEDBACK: </p>"
   ]
  },
  {
   "cell_type": "markdown",
   "metadata": {
    "deletable": false
   },
   "source": [
    "### Requirement FR6 - Develop a function to read CSV data from a file into memory"
   ]
  },
  {
   "cell_type": "code",
   "execution_count": 8,
   "metadata": {},
   "outputs": [
    {
     "name": "stdout",
     "output_type": "stream",
     "text": [
      "{'Hydropower': [0.117, 41.64945459, 17.26791, 37.52781287, 1.76795, 0.885632595, 0.45726487, 0.284810423, 387.6868063, 5.125584584, 244.839096, 387.2508762, 23.14438369, 1202.43, 56.64701407, 7.512550207, 0.0, 1.6272, 0.016454789, 20.69612073, 13.48338, 0.015617162, 38.93203591, 13.27777778, 64.2234218, 16.9, 5.720179713, 0.0, 0.221, 13.81099543, 139.6678322, 16.4112, 10.77, 3.1074588, 0.694087982, 0.0245, 45.85205715, 80.997, 10.3295118, 0.0, 2.433342329, 0.45, 0.094557415, 1.791368, 24.17649672, 32.39511459, 1.6934, 0.072348, 26.32037732, 138.4962175, 0.0, 62.91198244, 35.20305729, 2.255678699, 1.288541272, 0.0165, 69.46684307, 1.852952842, 35.99700727, 30.76868807, 9.383758, 1.971, 12.346, 0.0, 17.56396055, 190.21311, 0.0, 0.0, 3.591, 4.712487886, 0.914864856, 2.920390756, 35.19825724, 6.369370161, 61.91687566, 34.80394017, 4.4661, 7.597013, 0.0, 59.51828075, 0.0, 9.900734781, 0.0, 5.464660531, 288.7063404, 6.868202, 72.08394993, 80.70625435], 'Solar': [0.603, 0.108128528, 12.081099, 1.578641473, 0.03926, 0.299208359, 0.134485968, 3.971724224, 3.137078404, 1.103538835, 0.881300118, 3.5462509, 5.118720829, 177.5, 0.011999821, 0.073591668, 0.19183, 2.3386, 0.952973, 0.037991538, 1.035739071, 0.012679515, 0.441810565, 0.1622, 10.15871272, 46.164, 3.791092002, 0.000961, 0.588876056, 0.0, 30.73240318, 0.01836, 0.037698887, 0.057143443, 0.022173967, 1.793230515, 23.23072906, 71.6883359, 0.1146904, 0.088143148, 0.001263953, 0.08, 0.117480937, 0.022788, 0.459692933, 2.2428, 0.9502, 3.2012, 0.098244292, 0.064488547, 0.013718674, 0.585723529, 0.01484375, 0.697743206, 3.020039802, 0.111623598, 0.675171297, 0.128029166, 2.12332226, 0.745192715, 1.249117, 0.299, 1.02, 0.009423834, 1.674, 0.57106, 0.154871783, 0.283982555, 0.585, 0.253621, 4.935234819, 9.349876912, 12.52057273, 0.205337811, 0.373100151, 1.957371429, 2.733, 4.719656655, 0.003989071, 7.890694078, 0.00696, 1.286493457, 0.9468835, 12.92181535, 97.11818182, 0.0, 0.010008089, 0.080231508], 'Wind': [0.01, 1.412699784, 16.266484, 5.900014713, 0.0822, 0.005086066, 0.117978175, 7.468573702, 48.47990705, 1.378292235, 0.977082975, 32.17005152, 3.688710149, 366.0, 0.043437355, 1.379085419, 0.22061, 0.6093, 13.89880328, 0.080257771, 2.438966811, 0.633888557, 0.531134615, 5.857, 28.16738103, 111.59, 6.300269103, 0.000825, 0.608, 0.004365699, 60.31116, 0.198, 0.361973742, 0.0, 8.390989769, 0.105269485, 17.47251773, 6.789652, 0.5412648, 0.017452186, 0.123287671, 1.145, 0.307147387, 0.097338, 0.0, 12.62920683, 3.8407, 10.549225, 2.046003874, 3.875881, 0.0, 0.497064956, 0.0079, 1.428156269, 0.574940541, 0.453, 4.80031359, 0.0, 1.72268087, 1.493633864, 1.152924, 12.845, 12.657, 0.0, 6.497, 0.22774, 0.0, 0.0, 0.005, 0.006159, 6.894765181, 2.40369047, 50.83600814, 0.305662189, 16.81339144, 0.133, 1.6794, 0.76415852, 0.0, 19.825697, 0.0, 1.1274, 0.00075, 57.11571962, 277.7291061, 0.0, 0.0, 0.326664064], 'Other': [0.0, 2.29693941, 3.539346, 4.763252129, 0.0811, 0.008019927, 0.109149431, 5.427544126, 52.88998503, 0.496261903, 0.679177831, 9.588635536, 6.737367486, 90.72346175, 2.088838157, 0.682716361, 0.05136, 4.7285, 6.119796142, 0.427967651, 0.0, 1.369850244, 0.23331662, 12.86168421, 8.521197318, 51.437, 0.298303335, 0.100724044, 2.371182482, 6.009414916, 30.45869682, 14.5368, 0.021740437, 0.0, 1.242427268, 0.115, 25.31219835, 33.6554308, 0.0024284, 0.0, 0.962146042, 0.47, 0.226101964, 0.05405, 1.004339878, 6.480283932, 0.0, 4.875860296, 8.320907599, 0.178266653, 0.0, 0.163131005, 0.022, 1.39699069, 0.0041, 0.0, 2.647315578, 0.222533905, 1.667658529, 0.674414968, 11.540128, 6.331, 3.439, 0.114486339, 0.4617102, 0.4645, 0.0, 0.903, 1.419478261, 0.28827567, 0.530431005, 10.1747942, 7.378921565, 0.11339364, 11.85871366, 1.974071402, 2.01435, 12.31650175, 0.0, 9.983786807, 0.0, 0.218506543, 0.005983607, 35.58660245, 83.67703684, 0.0, 0.0, 0.060833333]}\n"
     ]
    }
   ],
   "source": [
    "# function to convert strings to floats\n",
    "def conversion(string): \n",
    "    if string == '' and type(string) ==str:\n",
    "        return 0.0\n",
    "    elif type(string) ==str:\n",
    "        return float(string)\n",
    "\n",
    "\n",
    "def convert_to_dictionary(file):\n",
    "    dict = {}\n",
    "    with open(file, 'r') as f:\n",
    "        # hardcoding readline() to read columns\n",
    "        for line in f:\n",
    "            words = line.strip().split(',')\n",
    "            if len(words) > 1: # dont need more than one line so break\n",
    "                break   \n",
    "    f.close()\n",
    "\n",
    "    #loop through the columns\n",
    "    for y in range(len(words)):\n",
    "        k, v = read_column(file, y) #reading function value to variable\n",
    "        dict.update({k:v})\n",
    "\n",
    "    # loop through dictionary to apply the conversion \n",
    "    for k,v in dict.items():\n",
    "        v = list(map(conversion,v))\n",
    "        dict.update({k:v})\n",
    "\n",
    "    \n",
    "    return dict\n",
    "            \n",
    "print(convert_to_dictionary('task1.csv'))"
   ]
  },
  {
   "cell_type": "markdown",
   "metadata": {
    "deletable": false
   },
   "source": [
    "<p style=\"color:red; font-weight:bold; font-size:xx-small\">MARK: __%</p>\n",
    "<p style=\"color:red; font-weight:bold; font-size:xx-small\">FEEDBACK: </p>"
   ]
  },
  {
   "cell_type": "markdown",
   "metadata": {
    "deletable": false
   },
   "source": [
    "### Requirement FR7 - Develop a function to generate a set of statistics for a given data file"
   ]
  },
  {
   "cell_type": "code",
   "execution_count": 9,
   "metadata": {},
   "outputs": [
    {
     "name": "stdout",
     "output_type": "stream",
     "text": [
      "{'Stats': ['Count', 'Mean', 'Stdev', 'Min', '25th', '50th', '75th', 'Max'], 'Hydropower': [88, 48.821284107874995, 143.61156541119564, 0.0, 0.885632595, 7.597013, 37.52781287, 1202.43], 'Solar': [88, 6.617743776193181, 23.050166228825766, 0.0, 0.080231508, 0.585723529, 3.020039802, 177.5], 'Wind': [88, 14.380072730647731, 50.17237934719127, 0.0, 0.0822, 0.977082975, 6.894765181, 366.0], 'Other': [88, 6.934232050284091, 15.838543567520071, 0.0, 0.100724044, 0.903, 6.480283932, 90.72346175]}\n"
     ]
    }
   ],
   "source": [
    "def stats(file):\n",
    "    memory = convert_to_dictionary(file) #reading function value to variable\n",
    "    dict = {} # create empty dictionary\n",
    "    dict.update({\"Stats\":[\"Count\",\"Mean\",\"Stdev\",\"Min\",\"25th\",\"50th\",\"75th\",\"Max\"]}) # update key,values\n",
    "   \n",
    "    for key, value in memory.items():\n",
    "        stats_list = []\n",
    "        minimum,maximum,count = min_max_total(value) \n",
    "    \n",
    "        stats_list.append(count)\n",
    "        stats_list.append(mean(value))\n",
    "        stats_list.append(sd(value))\n",
    "        stats_list.append(minimum)\n",
    "        stats_list.append(percentile(value, 25))\n",
    "        stats_list.append(percentile(value, 50))\n",
    "        stats_list.append(percentile(value, 75))\n",
    "        stats_list.append(maximum)\n",
    "        dict.update({key:stats_list}) # updating dictionary by appending list to keys\n",
    "        \n",
    "    return dict\n",
    "\n",
    "print(stats('task1.csv'))\n"
   ]
  },
  {
   "cell_type": "markdown",
   "metadata": {
    "deletable": false
   },
   "source": [
    "<p style=\"color:red; font-weight:bold; font-size:xx-small\">MARK: __%</p>\n",
    "<p style=\"color:red; font-weight:bold; font-size:xx-small\">FEEDBACK: </p>"
   ]
  },
  {
   "cell_type": "markdown",
   "metadata": {
    "deletable": false
   },
   "source": [
    "### Requirement FR8 - Develop a function to print a custom table"
   ]
  },
  {
   "cell_type": "code",
   "execution_count": 13,
   "metadata": {},
   "outputs": [
    {
     "name": "stdout",
     "output_type": "stream",
     "text": [
      "++++++++++++++++++++++++++++++++++++++++++++++++++++++++++++++++++++++++++++++++++++++++++++++++++++++++++++++++++++++++\n",
      "                         Hydropower            Solar                Wind               Other        \n",
      "++++++++++++++++++++++++++++++++++++++++++++++++++++++++++++++++++++++++++++++++++++++++++++++++++++++++++++++++++++++++\n",
      "        Mean         48.821284107874995  6.617743776193181   14.380072730647731  6.934232050284091  \n",
      "        Min                 0.0                 0.0                 0.0                 0.0         \n",
      "++++++++++++++++++++++++++++++++++++++++++++++++++++++++++++++++++++++++++++++++++++++++++++++++++++++++++++++++++++++++\n"
     ]
    }
   ],
   "source": [
    "def fact(n):  \n",
    "    return 1 if (n==1 or n==0) else n * fact(n - 1);  \n",
    "\n",
    "\n",
    "def list_in_list(list): \n",
    "\n",
    "    return [[el] for el in list] \n",
    "\n",
    "def table(file):\n",
    "\n",
    "    stat = stats(file) #reading function value to variable\n",
    "    user_input = input(\"enter border customization type E.g *,+,.,\") # choose border cistomization type\n",
    "    keys = list(stat.keys()) # converting keys to a list\n",
    "    keys[0] = \"\" # changing Stats to be empty\n",
    "    \n",
    "    # border customization\n",
    "    border = user_input * fact(len(keys)) \n",
    "    border = \"{:^20}\".format(border) \n",
    "\n",
    "    \n",
    "    print(border)\n",
    "    row_format =\"{:^20}\" * (len(keys))\n",
    "    print(row_format.format(*keys))\n",
    "    print(border)\n",
    "    \n",
    "    values=list(stat.values()) # converting values to a list\n",
    "    choice_column = [1,3] # choose columns separated by commas\n",
    "    for choice in choice_column:\n",
    "        choice = int(choice)\n",
    "        list_choice = [item[choice] for item in values] # extract column of choice\n",
    "        list_choice = list_in_list(list_choice) #list in list \n",
    "        for each_value in zip(*((v) for v in list_choice)):\n",
    "            print(row_format.format(*each_value)) #print values\n",
    "    print(border)\n",
    "\n",
    "table('task1.csv')"
   ]
  },
  {
   "cell_type": "markdown",
   "metadata": {
    "deletable": false
   },
   "source": [
    "<p style=\"color:red; font-weight:bold; font-size:xx-small\">MARK: __%</p>\n",
    "<p style=\"color:red; font-weight:bold; font-size:xx-small\">FEEDBACK: </p>"
   ]
  },
  {
   "cell_type": "markdown",
   "metadata": {
    "deletable": false
   },
   "source": [
    "# Coding Standards\n",
    "<p style=\"color:red; font-weight:bold; font-size:xx-small\">MARK: __%</p>\n",
    "<p style=\"color:red; font-weight:bold; font-size:xx-small\">FEEDBACK: </p>"
   ]
  },
  {
   "cell_type": "markdown",
   "metadata": {
    "deletable": false
   },
   "source": [
    "# Process Development Report for Task 1\n"
   ]
  },
  {
   "cell_type": "markdown",
   "metadata": {},
   "source": [
    "# Development Process Report\n",
    "\n",
    "Starting out with the development of task1, at first glance it felt and seemed easy, particularly with FR1-4 so i decided to go a different route with that.\n",
    "\n",
    "## FR1 -4 \n",
    "\n",
    "FR1 -4 was easy to me, but because the purpose of this course was to test and increase our knowledge in python, i decided to test my self by \n",
    "hardcoding most of the known functions such as sum(), len(), min(), max() and readline(). I did it not to prove that i know better but to further \n",
    "undestand the inner workings of how these in-built functions operate.\n",
    "\n",
    "## FR5 - 8\n",
    "\n",
    "This was the tricky part of task1. From reading a csv file without the csv module to learning how to use functions within a function appropriately were all new to me.\n",
    "This phase of exercises increased my knowledge in the use of list, accessing elements from a list via list slicing, list comprehension, map() and also the seperate use cases of list and dictionaries\n",
    "\n",
    "#### FR 6-7\n",
    "in these two questions, there were alot of challenges that i had to overcome and think about\n",
    "\n",
    "1. Whether to convert the values which are strings to float in FR6 or 7\n",
    "   Here ,though it wont matter where you choose to do the conversion, i prefer doing it prior or when populating the dictionary\n",
    "\n",
    "2. How to do the conversion i.e as a seperate function, which is the basis of the the whole task1 or inside the main function\n",
    "   I decided to do the conversion as a seperate function \n",
    "\n",
    "3. Using readline() and split() to determing how many columns or hardcoding it\n",
    "   I realized in using the readline() and split(), it gives a value of 3 instead of 4 and one has to add a +1 since it only counts the split and \n",
    "   not the column. I opted for hardcoding it.\n",
    "\n",
    "4. using dict.update({key:value}) or dict[key] = value\n",
    "   Here , it has to do with preference. In everyday use, i always go for the second, but i decided to use the first approach as a learning process.\n",
    " \n",
    "\n",
    "\n",
    "#### FR8\n",
    "In this task, i had to research online extensively for help. At first, the output i got was a watered down version from the one i have now.\n",
    "In the initial version, all headers and values were one. But according to the sample shown in the appendix, the headers had borders around it.\n",
    "\n",
    "In other to achieve this I had to seperate the header from values by passing them into seperate list and then looping over them seperately to derive the output.\n",
    "\n",
    "In this task also i had to do alot of trial and error to get to the final output. Like the value and keys had to be converted into a list to be \n",
    "used in a zip function and also to use the print formatting a list of list had to be created in other for the apprpriate indexes to be selected \n",
    "and printed."
   ]
  },
  {
   "cell_type": "markdown",
   "metadata": {
    "deletable": false
   },
   "source": [
    "<p style=\"color:red; font-weight:bold; font-size:xx-small\">MARK: __%</p>\n",
    "<p style=\"color:red; font-weight:bold; font-size:xx-small\">FEEDBACK: </p>"
   ]
  }
 ],
 "metadata": {
  "kernelspec": {
   "display_name": "base",
   "language": "python",
   "name": "python3"
  },
  "language_info": {
   "codemirror_mode": {
    "name": "ipython",
    "version": 3
   },
   "file_extension": ".py",
   "mimetype": "text/x-python",
   "name": "python",
   "nbconvert_exporter": "python",
   "pygments_lexer": "ipython3",
   "version": "3.8.8 (default, Apr 13 2021, 12:59:45) \n[Clang 10.0.0 ]"
  },
  "vscode": {
   "interpreter": {
    "hash": "ffc85bc72f8044517c06feef503d3a906b4cbc46b78cfa37e181a8d457723180"
   }
  }
 },
 "nbformat": 4,
 "nbformat_minor": 4
}
